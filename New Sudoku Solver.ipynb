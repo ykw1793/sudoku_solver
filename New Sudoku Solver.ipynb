{
 "cells": [
  {
   "cell_type": "markdown",
   "id": "ab6796e1",
   "metadata": {},
   "source": [
    "# Solved"
   ]
  },
  {
   "cell_type": "code",
   "execution_count": null,
   "id": "ac920be8",
   "metadata": {
    "ExecuteTime": {
     "end_time": "2023-10-25T05:30:01.954628Z",
     "start_time": "2023-10-25T05:29:59.929875Z"
    }
   },
   "outputs": [],
   "source": [
    "from sudoku_solver import *\n",
    "g = SudokuGame('089005140300817006710604380043900000970000014000008730096402071400159002021700490')\n",
    "g.solve()\n",
    "g"
   ]
  },
  {
   "cell_type": "code",
   "execution_count": null,
   "id": "154c3060",
   "metadata": {
    "ExecuteTime": {
     "end_time": "2023-10-25T05:30:02.921604Z",
     "start_time": "2023-10-25T05:30:02.103489Z"
    }
   },
   "outputs": [],
   "source": [
    "from sudoku_solver import *\n",
    "g = SudokuGame('080000704100000085000030200402910008900007340000000097000706001007040906205800003')\n",
    "g.solve()\n",
    "g"
   ]
  },
  {
   "cell_type": "code",
   "execution_count": null,
   "id": "0e9ff3ec",
   "metadata": {
    "ExecuteTime": {
     "end_time": "2023-10-25T05:30:03.935870Z",
     "start_time": "2023-10-25T05:30:02.948341Z"
    }
   },
   "outputs": [],
   "source": [
    "from sudoku_solver import SudokuGame\n",
    "g = SudokuGame('400000038002004100005300240070609004020000070600703090057008300003900400240000009')\n",
    "g.solve()\n",
    "g"
   ]
  },
  {
   "cell_type": "code",
   "execution_count": null,
   "id": "83774419",
   "metadata": {
    "ExecuteTime": {
     "end_time": "2023-10-25T05:30:05.301481Z",
     "start_time": "2023-10-25T05:30:03.947947Z"
    }
   },
   "outputs": [],
   "source": [
    "from sudoku_solver import SudokuGame\n",
    "g = SudokuGame('070008029002000004854020000008374200000000000003261700000090612200000400130600070')\n",
    "g.solve()\n",
    "g"
   ]
  },
  {
   "cell_type": "code",
   "execution_count": null,
   "id": "d2f1a9e2",
   "metadata": {
    "ExecuteTime": {
     "end_time": "2023-10-25T05:30:06.832632Z",
     "start_time": "2023-10-25T05:30:05.305111Z"
    }
   },
   "outputs": [],
   "source": [
    "from sudoku_solver import SudokuGame\n",
    "g = SudokuGame('070008029002000004854020000008374200000000000003261700000090612200000400130600070')\n",
    "g.solve()\n",
    "g"
   ]
  },
  {
   "cell_type": "code",
   "execution_count": null,
   "id": "96f714f9",
   "metadata": {
    "ExecuteTime": {
     "end_time": "2023-10-25T05:30:08.088153Z",
     "start_time": "2023-10-25T05:30:06.837795Z"
    }
   },
   "outputs": [],
   "source": [
    "from sudoku_solver import SudokuGame\n",
    "g = SudokuGame('000001030231090000065003100678924300103050006000136700009360570006019843300000000')\n",
    "g.solve()\n",
    "g"
   ]
  },
  {
   "cell_type": "code",
   "execution_count": null,
   "id": "cf5ddd27",
   "metadata": {
    "ExecuteTime": {
     "end_time": "2023-10-25T05:30:09.625377Z",
     "start_time": "2023-10-25T05:30:08.098062Z"
    }
   },
   "outputs": [],
   "source": [
    "from sudoku_solver import SudokuGame\n",
    "g = SudokuGame('000000060000030047032500000600007005207010908081004000000002000000000001005870000')\n",
    "g.solve()\n",
    "g"
   ]
  },
  {
   "cell_type": "code",
   "execution_count": null,
   "id": "0aa3d37e",
   "metadata": {
    "ExecuteTime": {
     "end_time": "2023-10-25T05:30:11.441633Z",
     "start_time": "2023-10-25T05:30:09.708597Z"
    },
    "cell_style": "center"
   },
   "outputs": [],
   "source": [
    "from sudoku_solver import SudokuGame\n",
    "g = SudokuGame('000030086000020000000008500371000094900000005400007600200700800030005000700004030')\n",
    "g.solve()\n",
    "g"
   ]
  },
  {
   "cell_type": "code",
   "execution_count": null,
   "id": "012f8cfc",
   "metadata": {
    "ExecuteTime": {
     "end_time": "2023-10-25T05:30:14.066884Z",
     "start_time": "2023-10-25T05:30:11.446469Z"
    },
    "scrolled": false
   },
   "outputs": [],
   "source": [
    "from sudoku_solver import SudokuGame\n",
    "g = SudokuGame('090700800007050300504000000000500004640090002030100006000000000060900100070002003')\n",
    "g.solve()\n",
    "g"
   ]
  },
  {
   "cell_type": "code",
   "execution_count": null,
   "id": "85f98602",
   "metadata": {
    "ExecuteTime": {
     "end_time": "2023-10-25T05:30:16.801915Z",
     "start_time": "2023-10-25T05:30:14.080846Z"
    }
   },
   "outputs": [],
   "source": [
    "from sudoku_solver import SudokuGame\n",
    "g = SudokuGame('900050000200630005006002000003100070000020900080005000000800100500010004000060008')\n",
    "g.solve()\n",
    "g"
   ]
  },
  {
   "cell_type": "code",
   "execution_count": null,
   "id": "d65a5889",
   "metadata": {
    "ExecuteTime": {
     "end_time": "2023-10-25T05:30:19.519628Z",
     "start_time": "2023-10-25T05:30:16.808992Z"
    }
   },
   "outputs": [],
   "source": [
    "from sudoku_solver import SudokuGame\n",
    "g = SudokuGame('100000569402000008050009040000640801000010000208035000040500010900000402621000005')\n",
    "g.solve()\n",
    "g"
   ]
  },
  {
   "cell_type": "code",
   "execution_count": null,
   "id": "fe41186b",
   "metadata": {
    "ExecuteTime": {
     "end_time": "2023-10-25T05:30:22.304793Z",
     "start_time": "2023-10-25T05:30:19.532284Z"
    },
    "scrolled": false
   },
   "outputs": [],
   "source": [
    "from sudoku_solver import SudokuGame\n",
    "g = SudokuGame('003910700000003400100040006060700000002109600000002010700080003008200000005071900')\n",
    "g.solve()\n",
    "g"
   ]
  },
  {
   "cell_type": "code",
   "execution_count": null,
   "id": "54f716f5",
   "metadata": {
    "ExecuteTime": {
     "end_time": "2023-10-25T05:30:25.100785Z",
     "start_time": "2023-10-25T05:30:22.311980Z"
    },
    "scrolled": false
   },
   "outputs": [],
   "source": [
    "from sudoku_solver import SudokuGame\n",
    "g = SudokuGame('007003600039000800020010050040100300000367000003008060090070020004000130008600900')\n",
    "g.solve()\n",
    "g"
   ]
  },
  {
   "cell_type": "code",
   "execution_count": null,
   "id": "d78bc13a",
   "metadata": {
    "ExecuteTime": {
     "end_time": "2023-10-25T05:30:28.021572Z",
     "start_time": "2023-10-25T05:30:25.107693Z"
    }
   },
   "outputs": [],
   "source": [
    "from sudoku_solver import SudokuGame\n",
    "g = SudokuGame('900040000000600031020000090000700020002935600070002000060000073510009000000080009')\n",
    "g.solve()\n",
    "g"
   ]
  },
  {
   "cell_type": "code",
   "execution_count": null,
   "id": "09c0e13a",
   "metadata": {
    "ExecuteTime": {
     "end_time": "2023-10-25T05:30:31.347767Z",
     "start_time": "2023-10-25T05:30:28.074972Z"
    },
    "scrolled": false
   },
   "outputs": [],
   "source": [
    "from sudoku_solver import SudokuGame\n",
    "g = SudokuGame('032006100410000000000901000500090004060000070300020005000508000000000019007000860')\n",
    "g.solve()\n",
    "g"
   ]
  },
  {
   "cell_type": "code",
   "execution_count": null,
   "id": "600fde79",
   "metadata": {
    "ExecuteTime": {
     "end_time": "2023-10-25T05:30:35.467698Z",
     "start_time": "2023-10-25T05:30:31.365049Z"
    },
    "scrolled": false
   },
   "outputs": [],
   "source": [
    "from sudoku_solver import SudokuGame\n",
    "g = SudokuGame('010903600000080000900000507002010430000402000064070200701000005000030000005601020')\n",
    "g.solve()\n",
    "g"
   ]
  },
  {
   "cell_type": "code",
   "execution_count": null,
   "id": "b4686303",
   "metadata": {
    "ExecuteTime": {
     "end_time": "2023-10-25T05:30:41.864434Z",
     "start_time": "2023-10-25T05:30:35.481494Z"
    },
    "cell_style": "center"
   },
   "outputs": [],
   "source": [
    "from sudoku_solver import SudokuGame\n",
    "g = SudokuGame('720400030000000047001076802010039000000801000000260080209680400340000000060003075')\n",
    "g.solve()\n",
    "g"
   ]
  },
  {
   "cell_type": "code",
   "execution_count": null,
   "id": "0ecfcb69",
   "metadata": {
    "ExecuteTime": {
     "end_time": "2023-10-25T05:30:46.819822Z",
     "start_time": "2023-10-25T05:30:41.870212Z"
    },
    "scrolled": false
   },
   "outputs": [],
   "source": [
    "from sudoku_solver import SudokuGame\n",
    "g = SudokuGame('500010003006003002003200000002300076000050000190007500000009400200800600900040005')\n",
    "g.solve()\n",
    "g"
   ]
  },
  {
   "cell_type": "code",
   "execution_count": null,
   "id": "1f892399",
   "metadata": {
    "ExecuteTime": {
     "end_time": "2023-10-25T05:30:50.719283Z",
     "start_time": "2023-10-25T05:30:46.834695Z"
    }
   },
   "outputs": [],
   "source": [
    "from sudoku_solver import SudokuGame\n",
    "g = SudokuGame('900000000037010420840000603000034810000060000068120000102000084085070360000000001')\n",
    "g.solve()\n",
    "g"
   ]
  },
  {
   "cell_type": "code",
   "execution_count": null,
   "id": "e621f59f",
   "metadata": {
    "ExecuteTime": {
     "end_time": "2023-10-25T05:30:54.171049Z",
     "start_time": "2023-10-25T05:30:50.741316Z"
    },
    "scrolled": false
   },
   "outputs": [],
   "source": [
    "from sudoku_solver import SudokuGame\n",
    "g = SudokuGame('020040069003806200060020000890500010000000000030001026000010070009604300270050090')\n",
    "g.solve()\n",
    "g"
   ]
  },
  {
   "cell_type": "code",
   "execution_count": null,
   "id": "bd5780f2",
   "metadata": {
    "ExecuteTime": {
     "end_time": "2023-10-25T05:30:57.955339Z",
     "start_time": "2023-10-25T05:30:54.211717Z"
    },
    "scrolled": false
   },
   "outputs": [],
   "source": [
    "from sudoku_solver import SudokuGame\n",
    "g = SudokuGame('300040000000007048000000907010003080400050020050008070500300000000000090609025300')\n",
    "g.solve()\n",
    "g"
   ]
  },
  {
   "cell_type": "markdown",
   "id": "554e2080",
   "metadata": {},
   "source": [
    "# Unsolved"
   ]
  },
  {
   "cell_type": "code",
   "execution_count": null,
   "id": "59a80120",
   "metadata": {
    "ExecuteTime": {
     "end_time": "2023-10-25T05:31:02.734058Z",
     "start_time": "2023-10-25T05:30:57.969705Z"
    },
    "scrolled": false
   },
   "outputs": [],
   "source": [
    "from sudoku_solver import SudokuGame\n",
    "g = SudokuGame('020000670000070010000904000200500007130080096800003004000009000050010000097000030')\n",
    "g.solve()\n",
    "g"
   ]
  },
  {
   "cell_type": "code",
   "execution_count": null,
   "id": "93122590",
   "metadata": {
    "ExecuteTime": {
     "end_time": "2023-10-25T05:31:06.408576Z",
     "start_time": "2023-10-25T05:31:02.739306Z"
    },
    "scrolled": false
   },
   "outputs": [],
   "source": [
    "from sudoku_solver import SudokuGame\n",
    "g = SudokuGame('004507000003600080600080004000100070500708006080003000200050003050001200000406500')\n",
    "g.solve()\n",
    "g"
   ]
  },
  {
   "cell_type": "code",
   "execution_count": null,
   "id": "514b4a14",
   "metadata": {
    "ExecuteTime": {
     "end_time": "2023-10-25T05:31:10.341443Z",
     "start_time": "2023-10-25T05:31:06.419590Z"
    },
    "scrolled": false
   },
   "outputs": [],
   "source": [
    "from sudoku_solver import SudokuGame\n",
    "g = SudokuGame('006200400094000060200400007000370000740090016000084000300006005080000730007003600')\n",
    "g.solve()\n",
    "g"
   ]
  },
  {
   "cell_type": "code",
   "execution_count": null,
   "id": "35fd59c1",
   "metadata": {
    "ExecuteTime": {
     "end_time": "2023-10-25T05:31:15.037538Z",
     "start_time": "2023-10-25T05:31:10.354503Z"
    }
   },
   "outputs": [],
   "source": [
    "from sudoku_solver import SudokuGame\n",
    "g = SudokuGame('600000000500900007820001030340209080000080000080307025050400092900005004000000003')\n",
    "g.solve()\n",
    "g"
   ]
  },
  {
   "cell_type": "code",
   "execution_count": null,
   "id": "e014370a",
   "metadata": {
    "ExecuteTime": {
     "end_time": "2023-10-25T05:31:19.659900Z",
     "start_time": "2023-10-25T05:31:15.043439Z"
    }
   },
   "outputs": [],
   "source": [
    "from sudoku_solver import SudokuGame\n",
    "g = SudokuGame('090001700500200008000030200070004960200060005069700030008090000700003009003800040')\n",
    "g.solve()\n",
    "g"
   ]
  },
  {
   "cell_type": "code",
   "execution_count": null,
   "id": "006e8800",
   "metadata": {
    "ExecuteTime": {
     "end_time": "2023-10-25T05:31:23.533167Z",
     "start_time": "2023-10-25T05:31:19.664330Z"
    },
    "scrolled": false
   },
   "outputs": [],
   "source": [
    "from sudoku_solver import SudokuGame\n",
    "g = SudokuGame('200000006000602000010090004300009600040000090009500001500010370000408000600000002')\n",
    "g.solve()\n",
    "g"
   ]
  },
  {
   "cell_type": "code",
   "execution_count": null,
   "id": "347dc408",
   "metadata": {
    "ExecuteTime": {
     "end_time": "2023-10-25T05:31:27.665087Z",
     "start_time": "2023-10-25T05:31:23.540492Z"
    },
    "scrolled": false
   },
   "outputs": [],
   "source": [
    "from sudoku_solver import SudokuGame\n",
    "g = SudokuGame('000000004760010050090002081070050010000709000080030060240100070010090045900000000')\n",
    "g.solve()\n",
    "g"
   ]
  },
  {
   "cell_type": "code",
   "execution_count": null,
   "id": "13d335e3",
   "metadata": {
    "ExecuteTime": {
     "end_time": "2023-10-25T05:31:32.367925Z",
     "start_time": "2023-10-25T05:31:27.671895Z"
    },
    "scrolled": false
   },
   "outputs": [],
   "source": [
    "from sudoku_solver import SudokuGame\n",
    "g = SudokuGame('650000024000609000040000000570400061000501000310002085000000010000203000130000098')\n",
    "g.solve()\n",
    "g"
   ]
  },
  {
   "cell_type": "code",
   "execution_count": null,
   "id": "6c5acf09",
   "metadata": {
    "ExecuteTime": {
     "end_time": "2023-10-25T05:31:37.761038Z",
     "start_time": "2023-10-25T05:31:32.371995Z"
    },
    "scrolled": false
   },
   "outputs": [],
   "source": [
    "from sudoku_solver import SudokuGame\n",
    "g = SudokuGame('000500000425090001800010020500000000019000460000000002090040003200060807000001600')\n",
    "g.solve()\n",
    "g"
   ]
  },
  {
   "cell_type": "markdown",
   "id": "b3a2614b",
   "metadata": {},
   "source": [
    "# Unsolvable"
   ]
  },
  {
   "cell_type": "code",
   "execution_count": null,
   "id": "75e6ccc8",
   "metadata": {
    "ExecuteTime": {
     "end_time": "2023-10-25T05:31:46.423873Z",
     "start_time": "2023-10-25T05:31:37.782298Z"
    }
   },
   "outputs": [],
   "source": [
    "# The most difficult\n",
    "from sudoku_solver import SudokuGame\n",
    "g = SudokuGame('800000000003600000070090200050007000000045700000100030001000068008500010090000400')\n",
    "g.solve()\n",
    "g"
   ]
  },
  {
   "cell_type": "code",
   "execution_count": null,
   "id": "b7d6195d",
   "metadata": {
    "ExecuteTime": {
     "end_time": "2023-10-25T05:31:54.551268Z",
     "start_time": "2023-10-25T05:31:46.437668Z"
    }
   },
   "outputs": [],
   "source": [
    "# 511\n",
    "from sudoku_solver import SudokuGame\n",
    "g = SudokuGame('000060010450000308007400900002030000300705000000040600004009700709000082010000000')\n",
    "g.solve()\n",
    "g"
   ]
  },
  {
   "cell_type": "code",
   "execution_count": null,
   "id": "89d6f84d",
   "metadata": {
    "ExecuteTime": {
     "end_time": "2023-10-25T05:31:58.621750Z",
     "start_time": "2023-10-25T05:31:54.569895Z"
    }
   },
   "outputs": [],
   "source": [
    "# 510\n",
    "from sudoku_solver import SudokuGame\n",
    "g = SudokuGame('309000401010000000000801000000005300800102009006700800000904000050000070702000903')\n",
    "g.solve()\n",
    "g"
   ]
  },
  {
   "cell_type": "code",
   "execution_count": null,
   "id": "e36b205e",
   "metadata": {
    "ExecuteTime": {
     "end_time": "2023-10-25T05:32:03.204937Z",
     "start_time": "2023-10-25T05:31:58.626102Z"
    }
   },
   "outputs": [],
   "source": [
    "# 509\n",
    "from sudoku_solver import SudokuGame\n",
    "g = SudokuGame('270900000000070003800063040001000000000030050020009460102000900600000000040500020')\n",
    "g.solve()\n",
    "g"
   ]
  },
  {
   "cell_type": "code",
   "execution_count": null,
   "id": "f68a6261",
   "metadata": {
    "ExecuteTime": {
     "end_time": "2023-10-25T05:32:08.529335Z",
     "start_time": "2023-10-25T05:32:03.274055Z"
    }
   },
   "outputs": [],
   "source": [
    "# 508\n",
    "from sudoku_solver import SudokuGame\n",
    "g = SudokuGame('005000004070000280003002900920006300004209000030500000001600000700300106052000000')\n",
    "g.solve()\n",
    "g"
   ]
  },
  {
   "cell_type": "code",
   "execution_count": null,
   "id": "9444ca1b",
   "metadata": {
    "ExecuteTime": {
     "end_time": "2023-10-25T05:32:14.511916Z",
     "start_time": "2023-10-25T05:32:08.537340Z"
    }
   },
   "outputs": [],
   "source": [
    "# 507\n",
    "from sudoku_solver import SudokuGame\n",
    "g = SudokuGame('030002000025100300070900000006010008080500040000700000001003400200000701050000090')\n",
    "g.solve()\n",
    "g"
   ]
  },
  {
   "cell_type": "code",
   "execution_count": null,
   "id": "bcdaf9cd",
   "metadata": {
    "ExecuteTime": {
     "end_time": "2023-10-25T05:32:19.152844Z",
     "start_time": "2023-10-25T05:32:14.535794Z"
    }
   },
   "outputs": [],
   "source": [
    "# 506\n",
    "from sudoku_solver import SudokuGame\n",
    "g = SudokuGame('007100000080053400340000006000000020400070605260300000009230008000000301000001050')\n",
    "g.solve()\n",
    "g"
   ]
  },
  {
   "cell_type": "code",
   "execution_count": null,
   "id": "7bd881c1",
   "metadata": {
    "ExecuteTime": {
     "end_time": "2023-10-25T05:32:24.659424Z",
     "start_time": "2023-10-25T05:32:19.157339Z"
    }
   },
   "outputs": [],
   "source": [
    "# 505\n",
    "from sudoku_solver import SudokuGame\n",
    "g = SudokuGame('040000700001060090050070001000200080400300050005001009070030000000905000506000012')\n",
    "g.solve()\n",
    "g"
   ]
  },
  {
   "cell_type": "code",
   "execution_count": null,
   "id": "64c4119f",
   "metadata": {
    "ExecuteTime": {
     "end_time": "2023-10-25T05:32:29.389474Z",
     "start_time": "2023-10-25T05:32:24.664589Z"
    }
   },
   "outputs": [],
   "source": [
    "# 504\n",
    "from sudoku_solver import SudokuGame\n",
    "g = SudokuGame('040200008300107005000000000200801030003000600050900002000000000810504007700009010')\n",
    "g.solve()\n",
    "g"
   ]
  },
  {
   "cell_type": "code",
   "execution_count": null,
   "id": "4c22072e",
   "metadata": {
    "ExecuteTime": {
     "end_time": "2023-10-25T05:32:34.725356Z",
     "start_time": "2023-10-25T05:32:29.402219Z"
    }
   },
   "outputs": [],
   "source": [
    "# 503\n",
    "from sudoku_solver import SudokuGame\n",
    "g = SudokuGame('500000603070500000004010000000040009005000010080300007030007800000008020002400006')\n",
    "g.solve()\n",
    "g"
   ]
  },
  {
   "cell_type": "code",
   "execution_count": null,
   "id": "d5cef12b",
   "metadata": {
    "ExecuteTime": {
     "end_time": "2023-10-25T05:32:40.476454Z",
     "start_time": "2023-10-25T05:32:34.732408Z"
    }
   },
   "outputs": [],
   "source": [
    "# 471\n",
    "from sudoku_solver import SudokuGame\n",
    "g = SudokuGame('602050000000003040000000000430008000010000200000000700500270000000000081000600000')\n",
    "g.solve()\n",
    "g"
   ]
  },
  {
   "cell_type": "code",
   "execution_count": null,
   "id": "09d67654",
   "metadata": {
    "ExecuteTime": {
     "end_time": "2023-10-25T05:32:45.585723Z",
     "start_time": "2023-10-25T05:32:40.481486Z"
    }
   },
   "outputs": [],
   "source": [
    "# 472\n",
    "from sudoku_solver import SudokuGame\n",
    "g = SudokuGame('029400000400089000000007004001008060000700002030060500060000010005000300900800007')\n",
    "g.solve()\n",
    "g"
   ]
  },
  {
   "cell_type": "code",
   "execution_count": null,
   "id": "08f25418",
   "metadata": {
    "ExecuteTime": {
     "end_time": "2023-10-25T05:32:50.756925Z",
     "start_time": "2023-10-25T05:32:45.588930Z"
    }
   },
   "outputs": [],
   "source": [
    "# 473\n",
    "from sudoku_solver import SudokuGame\n",
    "g = SudokuGame('020400080000000006800007100200500090095000000040030000000041007002800040000060300')\n",
    "g.solve()\n",
    "g"
   ]
  },
  {
   "cell_type": "code",
   "execution_count": null,
   "id": "db547782",
   "metadata": {
    "ExecuteTime": {
     "end_time": "2023-10-25T05:32:56.308465Z",
     "start_time": "2023-10-25T05:32:50.779339Z"
    }
   },
   "outputs": [],
   "source": [
    "# 474\n",
    "from sudoku_solver import SudokuGame\n",
    "g = SudokuGame('000000010000000045003004602002001030070060000800900000005002004060080000900700000')\n",
    "g.solve()\n",
    "g"
   ]
  },
  {
   "cell_type": "code",
   "execution_count": null,
   "id": "e820532c",
   "metadata": {
    "ExecuteTime": {
     "end_time": "2023-10-25T05:33:01.118142Z",
     "start_time": "2023-10-25T05:32:56.317609Z"
    }
   },
   "outputs": [],
   "source": [
    "# 475\n",
    "from sudoku_solver import SudokuGame\n",
    "g = SudokuGame('020006700400080000009300000000900570010007002000000610300040000008600000060005020')\n",
    "g.solve()\n",
    "g"
   ]
  },
  {
   "cell_type": "code",
   "execution_count": null,
   "id": "5a0271bf",
   "metadata": {
    "ExecuteTime": {
     "end_time": "2023-10-25T05:33:05.767408Z",
     "start_time": "2023-10-25T05:33:01.132377Z"
    }
   },
   "outputs": [],
   "source": [
    "# 476\n",
    "from sudoku_solver import SudokuGame\n",
    "g = SudokuGame('060700000400080000005009010800060000009005030070900004000003521000000000002000309')\n",
    "g.solve()\n",
    "g"
   ]
  },
  {
   "cell_type": "code",
   "execution_count": null,
   "id": "2bfb219c",
   "metadata": {
    "ExecuteTime": {
     "end_time": "2023-10-25T05:33:10.487599Z",
     "start_time": "2023-10-25T05:33:05.771271Z"
    }
   },
   "outputs": [],
   "source": [
    "# 477\n",
    "from sudoku_solver import SudokuGame\n",
    "g = SudokuGame('000004100001030020000000503109050200080600090700000000005090002600007000040800000')\n",
    "g.solve()\n",
    "g"
   ]
  },
  {
   "cell_type": "code",
   "execution_count": null,
   "id": "6a29dadb",
   "metadata": {
    "ExecuteTime": {
     "end_time": "2023-10-25T05:33:15.269025Z",
     "start_time": "2023-10-25T05:33:10.492038Z"
    }
   },
   "outputs": [],
   "source": [
    "# 478\n",
    "from sudoku_solver import SudokuGame\n",
    "g = SudokuGame('000008006000700040200090500000900007090006080003050900305000000020030100901400000')\n",
    "g.solve()\n",
    "g"
   ]
  },
  {
   "cell_type": "code",
   "execution_count": null,
   "id": "0e208d2c",
   "metadata": {
    "ExecuteTime": {
     "end_time": "2023-10-25T05:33:20.938462Z",
     "start_time": "2023-10-25T05:33:15.283937Z"
    }
   },
   "outputs": [],
   "source": [
    "# 479\n",
    "from sudoku_solver import SudokuGame\n",
    "g = SudokuGame('003001200020090000105200000400000070030500900000060008010900500000080004000007060')\n",
    "g.solve()\n",
    "g"
   ]
  },
  {
   "cell_type": "code",
   "execution_count": null,
   "id": "25306e9a",
   "metadata": {
    "ExecuteTime": {
     "end_time": "2023-10-25T05:33:24.614441Z",
     "start_time": "2023-10-25T05:33:20.942098Z"
    }
   },
   "outputs": [],
   "source": [
    "# 480\n",
    "from sudoku_solver import SudokuGame\n",
    "g = SudokuGame('020400090400089000000007004001000060000700008030060500060000010005000300200800007')\n",
    "g.solve()\n",
    "g"
   ]
  },
  {
   "cell_type": "markdown",
   "id": "5d820876",
   "metadata": {},
   "source": [
    "# Sandbox"
   ]
  },
  {
   "cell_type": "markdown",
   "id": "1d365dbb",
   "metadata": {},
   "source": []
  }
 ],
 "metadata": {
  "kernelspec": {
   "display_name": "Python 3 (ipykernel)",
   "language": "python",
   "name": "python3"
  },
  "language_info": {
   "codemirror_mode": {
    "name": "ipython",
    "version": 3
   },
   "file_extension": ".py",
   "mimetype": "text/x-python",
   "name": "python",
   "nbconvert_exporter": "python",
   "pygments_lexer": "ipython3",
   "version": "3.10.5"
  },
  "toc": {
   "base_numbering": 1,
   "nav_menu": {},
   "number_sections": true,
   "sideBar": true,
   "skip_h1_title": false,
   "title_cell": "Table of Contents",
   "title_sidebar": "Contents",
   "toc_cell": false,
   "toc_position": {},
   "toc_section_display": true,
   "toc_window_display": false
  },
  "vscode": {
   "interpreter": {
    "hash": "c6654cb86bb85216b1c23e6790807c429e37b42f44cd78fa3473865b3dedd555"
   }
  }
 },
 "nbformat": 4,
 "nbformat_minor": 5
}
