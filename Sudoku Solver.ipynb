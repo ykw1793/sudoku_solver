{
 "cells": [
  {
   "cell_type": "code",
   "execution_count": 2,
   "id": "73bb97a1",
   "metadata": {},
   "outputs": [],
   "source": [
    "from IPython.core.interactiveshell import InteractiveShell\n",
    "InteractiveShell.ast_node_interactivity = \"all\"\n",
    "\n",
    "from sudoku import *\n",
    "from pprint import pprint"
   ]
  },
  {
   "cell_type": "code",
   "execution_count": 3,
   "id": "6b600fea",
   "metadata": {
    "ExecuteTime": {
     "end_time": "2022-07-10T05:12:52.000438Z",
     "start_time": "2022-07-10T05:12:51.462862Z"
    }
   },
   "outputs": [
    {
     "data": {
      "text/plain": [
       "1.79278830459225"
      ]
     },
     "execution_count": 3,
     "metadata": {},
     "output_type": "execute_result"
    }
   ],
   "source": [
    "from sudoku import *\n",
    "import statistics as stat\n",
    "\n",
    "solve_time = []\n",
    "for _ in range(200):\n",
    "\tgame = Game('089005140300817006710604380043900000970000014000008730096402071400159002021700490')\n",
    "\tsolve_time.append(game.solve())\n",
    "stat.mean(solve_time) * 1000"
   ]
  },
  {
   "cell_type": "code",
   "execution_count": 5,
   "id": "9881abab",
   "metadata": {
    "ExecuteTime": {
     "end_time": "2022-07-10T05:12:57.089660Z",
     "start_time": "2022-07-10T05:12:56.042112Z"
    }
   },
   "outputs": [
    {
     "data": {
      "text/plain": [
       "3.7253122350375634"
      ]
     },
     "execution_count": 5,
     "metadata": {},
     "output_type": "execute_result"
    }
   ],
   "source": [
    "from sudoku import *\n",
    "import statistics as stat\n",
    "\n",
    "solve_time = []\n",
    "for _ in range(200):\n",
    "\tgame = Game('090700800007050300504000000000500004640090002030100006000000000060900100070002003')\n",
    "\tsolve_time.append(game.solve())\n",
    "stat.mean(solve_time) * 1000"
   ]
  },
  {
   "cell_type": "code",
   "execution_count": 6,
   "id": "8c567b16",
   "metadata": {
    "ExecuteTime": {
     "end_time": "2022-07-10T05:12:58.977198Z",
     "start_time": "2022-07-10T05:12:58.252280Z"
    }
   },
   "outputs": [
    {
     "data": {
      "text/plain": [
       "2.455119800797547"
      ]
     },
     "execution_count": 6,
     "metadata": {},
     "output_type": "execute_result"
    }
   ],
   "source": [
    "from sudoku import *\n",
    "import statistics as stat\n",
    "\n",
    "solve_time = []\n",
    "for _ in range(200):\n",
    "\tgame = Game('080000704100000085000030200402910008900007340000000097000706001007040906205800003')\n",
    "\tsolve_time.append(game.solve())\n",
    "stat.mean(solve_time) * 1000"
   ]
  },
  {
   "cell_type": "code",
   "execution_count": 7,
   "id": "3b794691",
   "metadata": {
    "ExecuteTime": {
     "end_time": "2022-07-10T05:13:02.463030Z",
     "start_time": "2022-07-10T05:13:01.632360Z"
    }
   },
   "outputs": [
    {
     "data": {
      "text/plain": [
       "2.9335465160693275"
      ]
     },
     "execution_count": 7,
     "metadata": {},
     "output_type": "execute_result"
    }
   ],
   "source": [
    "from sudoku import *\n",
    "import statistics as stat\n",
    "\n",
    "solve_time = []\n",
    "for _ in range(200):\n",
    "\tgame = Game('070001400800600000040807000000096208300208507000703090003000000005002873028000105')\n",
    "\tsolve_time.append(game.solve())\n",
    "stat.mean(solve_time) * 1000"
   ]
  },
  {
   "cell_type": "code",
   "execution_count": 8,
   "id": "158f853f",
   "metadata": {
    "ExecuteTime": {
     "end_time": "2022-07-10T05:13:04.561032Z",
     "start_time": "2022-07-10T05:13:03.981684Z"
    }
   },
   "outputs": [
    {
     "data": {
      "text/plain": [
       "1.9890395139373138"
      ]
     },
     "execution_count": 8,
     "metadata": {},
     "output_type": "execute_result"
    }
   ],
   "source": [
    "from sudoku import *\n",
    "import statistics as stat\n",
    "\n",
    "solve_time = []\n",
    "for _ in range(200):\n",
    "\tgame = Game('100000569492056108056109240009640801064010000218035604040500016905061402621000005')\n",
    "\tsolve_time.append(game.solve())\n",
    "stat.mean(solve_time) * 1000"
   ]
  },
  {
   "cell_type": "code",
   "execution_count": 1,
   "id": "48ae5dc5",
   "metadata": {
    "ExecuteTime": {
     "end_time": "2022-07-10T22:47:35.889632Z",
     "start_time": "2022-07-10T22:47:35.792455Z"
    },
    "scrolled": false
   },
   "outputs": [
    {
     "data": {
      "text/plain": [
       "\u001b[91m6\u001b[0m 8 9 | \u001b[91m3\u001b[0m \u001b[91m2\u001b[0m 5 | 1 4 \u001b[91m7\u001b[0m \n",
       "3 \u001b[91m5\u001b[0m \u001b[91m4\u001b[0m | 8 1 7 | \u001b[91m9\u001b[0m \u001b[91m2\u001b[0m 6 \n",
       "7 1 \u001b[91m2\u001b[0m | 6 \u001b[91m9\u001b[0m 4 | 3 8 \u001b[91m5\u001b[0m \n",
       "---------------------\n",
       "\u001b[91m2\u001b[0m 4 3 | 9 \u001b[91m7\u001b[0m \u001b[91m1\u001b[0m | \u001b[91m6\u001b[0m \u001b[91m5\u001b[0m \u001b[91m8\u001b[0m \n",
       "9 7 \u001b[91m8\u001b[0m | \u001b[91m5\u001b[0m \u001b[91m6\u001b[0m \u001b[91m3\u001b[0m | \u001b[91m2\u001b[0m 1 4 \n",
       "\u001b[91m1\u001b[0m \u001b[91m6\u001b[0m \u001b[91m5\u001b[0m | \u001b[91m2\u001b[0m \u001b[91m4\u001b[0m 8 | 7 3 \u001b[91m9\u001b[0m \n",
       "---------------------\n",
       "\u001b[91m8\u001b[0m 9 6 | 4 \u001b[91m3\u001b[0m 2 | \u001b[91m5\u001b[0m 7 1 \n",
       "4 \u001b[91m3\u001b[0m \u001b[91m7\u001b[0m | 1 5 9 | \u001b[91m8\u001b[0m \u001b[91m6\u001b[0m 2 \n",
       "\u001b[91m5\u001b[0m 2 1 | 7 \u001b[91m8\u001b[0m \u001b[91m6\u001b[0m | 4 9 \u001b[91m3\u001b[0m "
      ]
     },
     "execution_count": 1,
     "metadata": {},
     "output_type": "execute_result"
    }
   ],
   "source": [
    "from sudoku import *\n",
    "game = Game('089005140300817006710604380043900000970000014000008730096402071400159002021700490')\n",
    "game.solve()\n",
    "game"
   ]
  },
  {
   "cell_type": "code",
   "execution_count": 1,
   "id": "c41224a5",
   "metadata": {
    "ExecuteTime": {
     "end_time": "2022-07-10T22:48:20.968792Z",
     "start_time": "2022-07-10T22:48:20.834142Z"
    },
    "scrolled": false
   },
   "outputs": [
    {
     "data": {
      "text/plain": [
       "\u001b[91m3\u001b[0m 9 \u001b[91m6\u001b[0m | 7     | 8   \u001b[91m5\u001b[0m \n",
       "    7 |   5   | 3     \n",
       "5   4 |       |       \n",
       "---------------------\n",
       "      | 5     |     4 \n",
       "6 4   |   9   |     2 \n",
       "  3   | 1     |     6 \n",
       "---------------------\n",
       "  \u001b[91m5\u001b[0m   |       |       \n",
       "  6   | 9   \u001b[91m5\u001b[0m | 1     \n",
       "  7   |     2 |     3 "
      ]
     },
     "execution_count": 1,
     "metadata": {},
     "output_type": "execute_result"
    }
   ],
   "source": [
    "from sudoku import *\n",
    "game = Game('090700800007050300504000000000500004640090002030100006000000000060900100070002003')\n",
    "game.solve()\n",
    "game"
   ]
  },
  {
   "cell_type": "code",
   "execution_count": 2,
   "id": "56b92f54",
   "metadata": {
    "ExecuteTime": {
     "end_time": "2022-07-10T22:48:26.720844Z",
     "start_time": "2022-07-10T22:48:26.695204Z"
    }
   },
   "outputs": [
    {
     "data": {
      "text/plain": [
       "\u001b[91m5\u001b[0m 8 \u001b[91m9\u001b[0m | \u001b[91m1\u001b[0m \u001b[91m6\u001b[0m \u001b[91m2\u001b[0m | 7 \u001b[91m3\u001b[0m 4 \n",
       "1 \u001b[91m2\u001b[0m \u001b[91m3\u001b[0m | \u001b[91m4\u001b[0m \u001b[91m7\u001b[0m \u001b[91m9\u001b[0m | \u001b[91m6\u001b[0m 8 5 \n",
       "\u001b[91m7\u001b[0m \u001b[91m4\u001b[0m \u001b[91m6\u001b[0m | \u001b[91m5\u001b[0m 3 \u001b[91m8\u001b[0m | 2 \u001b[91m1\u001b[0m \u001b[91m9\u001b[0m \n",
       "---------------------\n",
       "4 \u001b[91m7\u001b[0m 2 | 9 1 \u001b[91m3\u001b[0m | \u001b[91m5\u001b[0m \u001b[91m6\u001b[0m 8 \n",
       "9 \u001b[91m5\u001b[0m \u001b[91m1\u001b[0m | \u001b[91m6\u001b[0m \u001b[91m8\u001b[0m 7 | 3 4 \u001b[91m2\u001b[0m \n",
       "\u001b[91m6\u001b[0m \u001b[91m3\u001b[0m \u001b[91m8\u001b[0m | \u001b[91m2\u001b[0m \u001b[91m5\u001b[0m \u001b[91m4\u001b[0m | \u001b[91m1\u001b[0m 9 7 \n",
       "---------------------\n",
       "\u001b[91m3\u001b[0m \u001b[91m9\u001b[0m \u001b[91m4\u001b[0m | 7 \u001b[91m2\u001b[0m 6 | \u001b[91m8\u001b[0m \u001b[91m5\u001b[0m 1 \n",
       "\u001b[91m8\u001b[0m \u001b[91m1\u001b[0m 7 | \u001b[91m3\u001b[0m 4 \u001b[91m5\u001b[0m | 9 \u001b[91m2\u001b[0m 6 \n",
       "2 \u001b[91m6\u001b[0m 5 | 8 \u001b[91m9\u001b[0m \u001b[91m1\u001b[0m | \u001b[91m4\u001b[0m \u001b[91m7\u001b[0m 3 "
      ]
     },
     "execution_count": 2,
     "metadata": {},
     "output_type": "execute_result"
    }
   ],
   "source": [
    "from sudoku import *\n",
    "game = Game('080000704100000085000030200402910008900007340000000097000706001007040906205800003')\n",
    "game.solve()\n",
    "game"
   ]
  },
  {
   "cell_type": "code",
   "execution_count": 6,
   "id": "ee60eb5b",
   "metadata": {
    "ExecuteTime": {
     "end_time": "2022-07-10T03:22:02.411753Z",
     "start_time": "2022-07-10T03:22:02.398036Z"
    }
   },
   "outputs": [
    {
     "data": {
      "text/plain": [
       "\u001b[91m6\u001b[0m 7 \u001b[91m2\u001b[0m | \u001b[91m5\u001b[0m \u001b[91m3\u001b[0m 1 | 4 \u001b[91m8\u001b[0m \u001b[91m9\u001b[0m \n",
       "8 \u001b[91m3\u001b[0m \u001b[91m1\u001b[0m | 6 \u001b[91m4\u001b[0m \u001b[91m9\u001b[0m | \u001b[91m7\u001b[0m \u001b[91m5\u001b[0m \u001b[91m2\u001b[0m \n",
       "\u001b[91m5\u001b[0m 4 \u001b[91m9\u001b[0m | 8 \u001b[91m2\u001b[0m 7 | \u001b[91m3\u001b[0m \u001b[91m1\u001b[0m \u001b[91m6\u001b[0m \n",
       "---------------------\n",
       "\u001b[91m1\u001b[0m \u001b[91m5\u001b[0m \u001b[91m7\u001b[0m | \u001b[91m4\u001b[0m 9 6 | 2 \u001b[91m3\u001b[0m 8 \n",
       "3 \u001b[91m9\u001b[0m \u001b[91m6\u001b[0m | 2 \u001b[91m1\u001b[0m 8 | 5 \u001b[91m4\u001b[0m 7 \n",
       "\u001b[91m2\u001b[0m \u001b[91m8\u001b[0m \u001b[91m4\u001b[0m | 7 \u001b[91m5\u001b[0m 3 | \u001b[91m6\u001b[0m 9 \u001b[91m1\u001b[0m \n",
       "---------------------\n",
       "\u001b[91m7\u001b[0m \u001b[91m6\u001b[0m 3 | \u001b[91m1\u001b[0m \u001b[91m8\u001b[0m \u001b[91m5\u001b[0m | \u001b[91m9\u001b[0m \u001b[91m2\u001b[0m \u001b[91m4\u001b[0m \n",
       "\u001b[91m4\u001b[0m \u001b[91m1\u001b[0m 5 | \u001b[91m9\u001b[0m \u001b[91m6\u001b[0m 2 | 8 7 3 \n",
       "\u001b[91m9\u001b[0m 2 8 | \u001b[91m3\u001b[0m \u001b[91m7\u001b[0m \u001b[91m4\u001b[0m | 1 \u001b[91m6\u001b[0m 5 "
      ]
     },
     "execution_count": 6,
     "metadata": {},
     "output_type": "execute_result"
    }
   ],
   "source": [
    "from sudoku import *\n",
    "game = Game('070001400800600000040807000000096208300208507000703090003000000005002873028000105')\n",
    "game.solve()\n",
    "game"
   ]
  },
  {
   "cell_type": "code",
   "execution_count": 12,
   "id": "0716c9c1",
   "metadata": {
    "ExecuteTime": {
     "end_time": "2022-07-10T05:13:14.199200Z",
     "start_time": "2022-07-10T05:13:14.181838Z"
    }
   },
   "outputs": [
    {
     "data": {
      "text/plain": [
       "1 \u001b[91m8\u001b[0m \u001b[91m7\u001b[0m | \u001b[91m4\u001b[0m \u001b[91m2\u001b[0m \u001b[91m3\u001b[0m | 5 6 9 \n",
       "4 9 2 | \u001b[91m7\u001b[0m 5 6 | 1 \u001b[91m3\u001b[0m 8 \n",
       "\u001b[91m3\u001b[0m 5 6 | 1 \u001b[91m8\u001b[0m 9 | 2 4 \u001b[91m7\u001b[0m \n",
       "---------------------\n",
       "\u001b[91m5\u001b[0m \u001b[91m3\u001b[0m 9 | 6 4 \u001b[91m7\u001b[0m | 8 \u001b[91m2\u001b[0m 1 \n",
       "\u001b[91m7\u001b[0m 6 4 | \u001b[91m2\u001b[0m 1 \u001b[91m8\u001b[0m | \u001b[91m9\u001b[0m \u001b[91m5\u001b[0m \u001b[91m3\u001b[0m \n",
       "2 1 8 | \u001b[91m9\u001b[0m 3 5 | 6 \u001b[91m7\u001b[0m 4 \n",
       "---------------------\n",
       "\u001b[91m8\u001b[0m 4 \u001b[91m3\u001b[0m | 5 \u001b[91m9\u001b[0m \u001b[91m2\u001b[0m | \u001b[91m7\u001b[0m 1 6 \n",
       "9 \u001b[91m7\u001b[0m 5 | \u001b[91m3\u001b[0m 6 1 | 4 \u001b[91m8\u001b[0m 2 \n",
       "6 2 1 | \u001b[91m8\u001b[0m \u001b[91m7\u001b[0m \u001b[91m4\u001b[0m | \u001b[91m3\u001b[0m \u001b[91m9\u001b[0m 5 "
      ]
     },
     "execution_count": 12,
     "metadata": {},
     "output_type": "execute_result"
    }
   ],
   "source": [
    "from sudoku import *\n",
    "game = Game('100000569492056108056109240009640801064010000218035604040500016905061402621000005')\n",
    "game.solve()\n",
    "game"
   ]
  },
  {
   "cell_type": "code",
   "execution_count": 1,
   "id": "db1eed7a",
   "metadata": {
    "ExecuteTime": {
     "end_time": "2022-07-10T05:25:13.771137Z",
     "start_time": "2022-07-10T05:25:06.777552Z"
    }
   },
   "outputs": [
    {
     "data": {
      "text/plain": [
       "\u001b[91m6\u001b[0m \u001b[91m8\u001b[0m \u001b[91m5\u001b[0m | 1 \u001b[91m3\u001b[0m 2 | \u001b[91m9\u001b[0m 7 \u001b[91m4\u001b[0m \n",
       "\u001b[91m7\u001b[0m \u001b[91m3\u001b[0m 4 | \u001b[91m5\u001b[0m \u001b[91m9\u001b[0m 8 | 2 \u001b[91m6\u001b[0m \u001b[91m1\u001b[0m \n",
       "\u001b[91m2\u001b[0m \u001b[91m1\u001b[0m \u001b[91m9\u001b[0m | \u001b[91m7\u001b[0m \u001b[91m6\u001b[0m \u001b[91m4\u001b[0m | 8 3 5 \n",
       "---------------------\n",
       "5 \u001b[91m6\u001b[0m 8 | 4 \u001b[91m2\u001b[0m \u001b[91m7\u001b[0m | \u001b[91m3\u001b[0m 1 \u001b[91m9\u001b[0m \n",
       "\u001b[91m3\u001b[0m \u001b[91m4\u001b[0m \u001b[91m2\u001b[0m | \u001b[91m9\u001b[0m \u001b[91m1\u001b[0m \u001b[91m5\u001b[0m | \u001b[91m7\u001b[0m \u001b[91m8\u001b[0m \u001b[91m6\u001b[0m \n",
       "\u001b[91m1\u001b[0m 9 \u001b[91m7\u001b[0m | \u001b[91m6\u001b[0m \u001b[91m8\u001b[0m \u001b[91m3\u001b[0m | \u001b[91m4\u001b[0m 5 \u001b[91m2\u001b[0m \n",
       "---------------------\n",
       "9 \u001b[91m2\u001b[0m \u001b[91m6\u001b[0m | 8 7 1 | \u001b[91m5\u001b[0m \u001b[91m4\u001b[0m \u001b[91m3\u001b[0m \n",
       "\u001b[91m8\u001b[0m \u001b[91m5\u001b[0m \u001b[91m1\u001b[0m | \u001b[91m3\u001b[0m \u001b[91m4\u001b[0m \u001b[91m9\u001b[0m | 6 \u001b[91m2\u001b[0m \u001b[91m7\u001b[0m \n",
       "\u001b[91m4\u001b[0m 7 \u001b[91m3\u001b[0m | 2 5 \u001b[91m6\u001b[0m | \u001b[91m1\u001b[0m \u001b[91m9\u001b[0m \u001b[91m8\u001b[0m "
      ]
     },
     "execution_count": 1,
     "metadata": {},
     "output_type": "execute_result"
    }
   ],
   "source": [
    "from sudoku import *\n",
    "game = Game('000102070004008200000000835508400010000000000090000050900871000000000600070250000')\n",
    "game.solve()\n",
    "game"
   ]
  },
  {
   "cell_type": "code",
   "execution_count": 2,
   "id": "ffeb28fc",
   "metadata": {
    "ExecuteTime": {
     "end_time": "2022-07-10T05:30:03.296666Z",
     "start_time": "2022-07-10T05:25:32.359117Z"
    }
   },
   "outputs": [
    {
     "ename": "KeyboardInterrupt",
     "evalue": "",
     "output_type": "error",
     "traceback": [
      "\u001b[0;31m---------------------------------------------------------------------------\u001b[0m",
      "\u001b[0;31mKeyboardInterrupt\u001b[0m                         Traceback (most recent call last)",
      "Input \u001b[0;32mIn [2]\u001b[0m, in \u001b[0;36m<cell line: 3>\u001b[0;34m()\u001b[0m\n\u001b[1;32m      1\u001b[0m \u001b[38;5;28;01mfrom\u001b[39;00m \u001b[38;5;21;01msudoku\u001b[39;00m \u001b[38;5;28;01mimport\u001b[39;00m \u001b[38;5;241m*\u001b[39m\n\u001b[1;32m      2\u001b[0m game \u001b[38;5;241m=\u001b[39m Game(\u001b[38;5;124m'\u001b[39m\u001b[38;5;124m000000094760910050090002081070050010000709000080031067240100070010090045900000100\u001b[39m\u001b[38;5;124m'\u001b[39m)\n\u001b[0;32m----> 3\u001b[0m \u001b[43mgame\u001b[49m\u001b[38;5;241;43m.\u001b[39;49m\u001b[43msolve\u001b[49m\u001b[43m(\u001b[49m\u001b[43m)\u001b[49m\n\u001b[1;32m      4\u001b[0m game\n",
      "File \u001b[0;32m~/Desktop/Programming/sudoku/sudoku.py:691\u001b[0m, in \u001b[0;36mGame.solve\u001b[0;34m(self)\u001b[0m\n\u001b[1;32m    689\u001b[0m new_game \u001b[38;5;241m=\u001b[39m Game(\u001b[38;5;28mself\u001b[39m\u001b[38;5;241m.\u001b[39mget_board_str())\n\u001b[1;32m    690\u001b[0m new_game\u001b[38;5;241m.\u001b[39madd(row, col, n)\n\u001b[0;32m--> 691\u001b[0m ret \u001b[38;5;241m=\u001b[39m \u001b[43mnew_game\u001b[49m\u001b[38;5;241;43m.\u001b[39;49m\u001b[43msolve\u001b[49m\u001b[43m(\u001b[49m\u001b[43m)\u001b[49m\n\u001b[1;32m    692\u001b[0m \u001b[38;5;28;01mif\u001b[39;00m ret:\n\u001b[1;32m    693\u001b[0m \t\u001b[38;5;28mself\u001b[39m\u001b[38;5;241m.\u001b[39marr \u001b[38;5;241m=\u001b[39m new_game\u001b[38;5;241m.\u001b[39marr\u001b[38;5;241m.\u001b[39mcopy()\n",
      "File \u001b[0;32m~/Desktop/Programming/sudoku/sudoku.py:691\u001b[0m, in \u001b[0;36mGame.solve\u001b[0;34m(self)\u001b[0m\n\u001b[1;32m    689\u001b[0m new_game \u001b[38;5;241m=\u001b[39m Game(\u001b[38;5;28mself\u001b[39m\u001b[38;5;241m.\u001b[39mget_board_str())\n\u001b[1;32m    690\u001b[0m new_game\u001b[38;5;241m.\u001b[39madd(row, col, n)\n\u001b[0;32m--> 691\u001b[0m ret \u001b[38;5;241m=\u001b[39m \u001b[43mnew_game\u001b[49m\u001b[38;5;241;43m.\u001b[39;49m\u001b[43msolve\u001b[49m\u001b[43m(\u001b[49m\u001b[43m)\u001b[49m\n\u001b[1;32m    692\u001b[0m \u001b[38;5;28;01mif\u001b[39;00m ret:\n\u001b[1;32m    693\u001b[0m \t\u001b[38;5;28mself\u001b[39m\u001b[38;5;241m.\u001b[39marr \u001b[38;5;241m=\u001b[39m new_game\u001b[38;5;241m.\u001b[39marr\u001b[38;5;241m.\u001b[39mcopy()\n",
      "    \u001b[0;31m[... skipping similar frames: Game.solve at line 691 (6 times)]\u001b[0m\n",
      "File \u001b[0;32m~/Desktop/Programming/sudoku/sudoku.py:691\u001b[0m, in \u001b[0;36mGame.solve\u001b[0;34m(self)\u001b[0m\n\u001b[1;32m    689\u001b[0m new_game \u001b[38;5;241m=\u001b[39m Game(\u001b[38;5;28mself\u001b[39m\u001b[38;5;241m.\u001b[39mget_board_str())\n\u001b[1;32m    690\u001b[0m new_game\u001b[38;5;241m.\u001b[39madd(row, col, n)\n\u001b[0;32m--> 691\u001b[0m ret \u001b[38;5;241m=\u001b[39m \u001b[43mnew_game\u001b[49m\u001b[38;5;241;43m.\u001b[39;49m\u001b[43msolve\u001b[49m\u001b[43m(\u001b[49m\u001b[43m)\u001b[49m\n\u001b[1;32m    692\u001b[0m \u001b[38;5;28;01mif\u001b[39;00m ret:\n\u001b[1;32m    693\u001b[0m \t\u001b[38;5;28mself\u001b[39m\u001b[38;5;241m.\u001b[39marr \u001b[38;5;241m=\u001b[39m new_game\u001b[38;5;241m.\u001b[39marr\u001b[38;5;241m.\u001b[39mcopy()\n",
      "File \u001b[0;32m~/Desktop/Programming/sudoku/sudoku.py:669\u001b[0m, in \u001b[0;36mGame.solve\u001b[0;34m(self)\u001b[0m\n\u001b[1;32m    667\u001b[0m \u001b[38;5;28;01mwhile\u001b[39;00m \u001b[38;5;28;01mTrue\u001b[39;00m:\n\u001b[1;32m    668\u001b[0m \told_added_num \u001b[38;5;241m=\u001b[39m \u001b[38;5;28mlen\u001b[39m(\u001b[38;5;28mself\u001b[39m\u001b[38;5;241m.\u001b[39madded)\n\u001b[0;32m--> 669\u001b[0m \t\u001b[38;5;28;43mself\u001b[39;49m\u001b[38;5;241;43m.\u001b[39;49m\u001b[43msolve_single_pos_psbl_for_num\u001b[49m\u001b[43m(\u001b[49m\u001b[43m)\u001b[49m\n\u001b[1;32m    670\u001b[0m \t\u001b[38;5;28mself\u001b[39m\u001b[38;5;241m.\u001b[39msolve_single_num_psbl_for_pos()\n\u001b[1;32m    671\u001b[0m \t\u001b[38;5;28;01mif\u001b[39;00m \u001b[38;5;28mlen\u001b[39m(\u001b[38;5;28mself\u001b[39m\u001b[38;5;241m.\u001b[39madded) \u001b[38;5;241m==\u001b[39m old_added_num:\n",
      "File \u001b[0;32m~/Desktop/Programming/sudoku/sudoku.py:434\u001b[0m, in \u001b[0;36mGame.solve_single_pos_psbl_for_num\u001b[0;34m(self)\u001b[0m\n\u001b[1;32m    432\u001b[0m \trow, col, n \u001b[38;5;241m=\u001b[39m num_to_pos_ret\n\u001b[1;32m    433\u001b[0m \t\u001b[38;5;66;03m# print('single_pos_psbl_for_num', row, col, n)\u001b[39;00m\n\u001b[0;32m--> 434\u001b[0m \t\u001b[38;5;28;43mself\u001b[39;49m\u001b[38;5;241;43m.\u001b[39;49m\u001b[43madd\u001b[49m\u001b[43m(\u001b[49m\u001b[43mrow\u001b[49m\u001b[43m,\u001b[49m\u001b[43m \u001b[49m\u001b[43mcol\u001b[49m\u001b[43m,\u001b[49m\u001b[43m \u001b[49m\u001b[43mn\u001b[49m\u001b[43m)\u001b[49m\n\u001b[1;32m    435\u001b[0m \t\u001b[38;5;66;03m# self.print_psbl()\u001b[39;00m\n\u001b[1;32m    436\u001b[0m \u001b[38;5;28;01melse\u001b[39;00m:\n\u001b[1;32m    437\u001b[0m \t\u001b[38;5;66;03m# print(1)\u001b[39;00m\n\u001b[1;32m    438\u001b[0m \t\u001b[38;5;28;01mreturn\u001b[39;00m\n",
      "File \u001b[0;32m~/Desktop/Programming/sudoku/sudoku.py:352\u001b[0m, in \u001b[0;36mGame.add\u001b[0;34m(self, row, col, n)\u001b[0m\n\u001b[1;32m    350\u001b[0m \u001b[38;5;28mself\u001b[39m\u001b[38;5;241m.\u001b[39marr[row, col] \u001b[38;5;241m=\u001b[39m n\n\u001b[1;32m    351\u001b[0m \u001b[38;5;28mself\u001b[39m\u001b[38;5;241m.\u001b[39madded\u001b[38;5;241m.\u001b[39mappend((row, col))\n\u001b[0;32m--> 352\u001b[0m \u001b[38;5;28;43mself\u001b[39;49m\u001b[38;5;241;43m.\u001b[39;49m\u001b[43mremove_comp\u001b[49m\u001b[43m(\u001b[49m\u001b[43mrow\u001b[49m\u001b[43m,\u001b[49m\u001b[43m \u001b[49m\u001b[43mcol\u001b[49m\u001b[43m,\u001b[49m\u001b[43m \u001b[49m\u001b[43mn\u001b[49m\u001b[43m)\u001b[49m\n",
      "File \u001b[0;32m~/Desktop/Programming/sudoku/sudoku.py:331\u001b[0m, in \u001b[0;36mGame.remove_comp\u001b[0;34m(self, row, col, n)\u001b[0m\n\u001b[1;32m    329\u001b[0m \u001b[38;5;28;01mif\u001b[39;00m col \u001b[38;5;129;01min\u001b[39;00m \u001b[38;5;28mself\u001b[39m\u001b[38;5;241m.\u001b[39mmissing_pos[\u001b[38;5;124m'\u001b[39m\u001b[38;5;124mr\u001b[39m\u001b[38;5;124m'\u001b[39m][idx] \u001b[38;5;129;01mand\u001b[39;00m n \u001b[38;5;129;01min\u001b[39;00m \u001b[38;5;28mself\u001b[39m\u001b[38;5;241m.\u001b[39mmissing_pos[\u001b[38;5;124m'\u001b[39m\u001b[38;5;124mr\u001b[39m\u001b[38;5;124m'\u001b[39m][idx][col]:\n\u001b[1;32m    330\u001b[0m \t\u001b[38;5;28mself\u001b[39m\u001b[38;5;241m.\u001b[39mremove_psbl(idx, col, n)\n\u001b[0;32m--> 331\u001b[0m r, c \u001b[38;5;241m=\u001b[39m \u001b[38;5;28;43mself\u001b[39;49m\u001b[38;5;241;43m.\u001b[39;49m\u001b[43mflatIdxInBox_to_idx\u001b[49m\u001b[43m(\u001b[49m\u001b[43mbox_flat_idx\u001b[49m\u001b[43m,\u001b[49m\u001b[43m \u001b[49m\u001b[43midx\u001b[49m\u001b[43m)\u001b[49m\n\u001b[1;32m    332\u001b[0m \u001b[38;5;28;01mif\u001b[39;00m c \u001b[38;5;129;01min\u001b[39;00m \u001b[38;5;28mself\u001b[39m\u001b[38;5;241m.\u001b[39mmissing_pos[\u001b[38;5;124m'\u001b[39m\u001b[38;5;124mr\u001b[39m\u001b[38;5;124m'\u001b[39m][r] \u001b[38;5;129;01mand\u001b[39;00m n \u001b[38;5;129;01min\u001b[39;00m \u001b[38;5;28mself\u001b[39m\u001b[38;5;241m.\u001b[39mmissing_pos[\u001b[38;5;124m'\u001b[39m\u001b[38;5;124mr\u001b[39m\u001b[38;5;124m'\u001b[39m][r][c]:\n\u001b[1;32m    333\u001b[0m \t\u001b[38;5;28mself\u001b[39m\u001b[38;5;241m.\u001b[39mremove_psbl(r, c, n)\n",
      "File \u001b[0;32m~/Desktop/Programming/sudoku/sudoku.py:166\u001b[0m, in \u001b[0;36mGame.flatIdxInBox_to_idx\u001b[0;34m(self, box_flat_idx, flat_idx_in_box)\u001b[0m\n\u001b[1;32m    165\u001b[0m \u001b[38;5;28;01mdef\u001b[39;00m \u001b[38;5;21mflatIdxInBox_to_idx\u001b[39m(\u001b[38;5;28mself\u001b[39m, box_flat_idx: \u001b[38;5;28mint\u001b[39m, flat_idx_in_box: \u001b[38;5;28mint\u001b[39m):\n\u001b[0;32m--> 166\u001b[0m \t\u001b[38;5;28;01mreturn\u001b[39;00m \u001b[38;5;28;43mself\u001b[39;49m\u001b[38;5;241;43m.\u001b[39;49m\u001b[43mflatIdx_to_idx\u001b[49m\u001b[43m(\u001b[49m\u001b[38;5;28;43mself\u001b[39;49m\u001b[38;5;241;43m.\u001b[39;49m\u001b[43mflatIdxInBox_to_flatIdx\u001b[49m\u001b[43m(\u001b[49m\u001b[43mbox_flat_idx\u001b[49m\u001b[43m,\u001b[49m\u001b[43m \u001b[49m\u001b[43mflat_idx_in_box\u001b[49m\u001b[43m)\u001b[49m\u001b[43m)\u001b[49m\n",
      "File \u001b[0;32m~/Desktop/Programming/sudoku/sudoku.py:175\u001b[0m, in \u001b[0;36mGame.flatIdx_to_idx\u001b[0;34m(self, flat_idx)\u001b[0m\n\u001b[1;32m    174\u001b[0m \u001b[38;5;28;01mdef\u001b[39;00m \u001b[38;5;21mflatIdx_to_idx\u001b[39m(\u001b[38;5;28mself\u001b[39m, flat_idx: \u001b[38;5;28mint\u001b[39m):\n\u001b[0;32m--> 175\u001b[0m \t\u001b[38;5;28;01mreturn\u001b[39;00m \u001b[38;5;28;43mself\u001b[39;49m\u001b[38;5;241;43m.\u001b[39;49m\u001b[43mconvert_1d_to_2d_coord\u001b[49m\u001b[43m(\u001b[49m\u001b[43mflat_idx\u001b[49m\u001b[43m,\u001b[49m\u001b[43m \u001b[49m\u001b[38;5;241;43m9\u001b[39;49m\u001b[43m)\u001b[49m\n",
      "\u001b[0;31mKeyboardInterrupt\u001b[0m: "
     ]
    }
   ],
   "source": [
    "from sudoku import *\n",
    "game = Game('000000094760910050090002081070050010000709000080031067240100070010090045900000100')\n",
    "game.solve()\n",
    "game"
   ]
  },
  {
   "cell_type": "code",
   "execution_count": null,
   "id": "e61b2228",
   "metadata": {},
   "outputs": [],
   "source": []
  },
  {
   "cell_type": "code",
   "execution_count": null,
   "id": "dfa4d517",
   "metadata": {},
   "outputs": [],
   "source": []
  },
  {
   "cell_type": "code",
   "execution_count": null,
   "id": "66d838d1",
   "metadata": {},
   "outputs": [],
   "source": []
  },
  {
   "cell_type": "code",
   "execution_count": null,
   "id": "94d8b5f0",
   "metadata": {},
   "outputs": [],
   "source": []
  },
  {
   "cell_type": "code",
   "execution_count": null,
   "id": "1e8f260d",
   "metadata": {},
   "outputs": [],
   "source": []
  },
  {
   "cell_type": "code",
   "execution_count": null,
   "id": "ca09065f",
   "metadata": {},
   "outputs": [],
   "source": []
  },
  {
   "cell_type": "code",
   "execution_count": null,
   "id": "b4da5ed0",
   "metadata": {},
   "outputs": [],
   "source": []
  },
  {
   "cell_type": "code",
   "execution_count": 6,
   "id": "94a0d95e",
   "metadata": {},
   "outputs": [
    {
     "data": {
      "text/plain": [
       "8     |       |       \n",
       "    3 | 6     |       \n",
       "  7   |   9   | 2     \n",
       "---------------------\n",
       "  5   |     7 |       \n",
       "      |   4 5 | 7     \n",
       "      | 1     |   3   \n",
       "---------------------\n",
       "    1 |       |   6 8 \n",
       "    8 | 5     |   1   \n",
       "  9   |       | 4     "
      ]
     },
     "execution_count": 6,
     "metadata": {},
     "output_type": "execute_result"
    }
   ],
   "source": [
    "# from sudoku import *\n",
    "# game = Game('800000000003600000070090200050007000000045700000100030001000068008500010090000400')\n",
    "# game.solve()\n",
    "# game"
   ]
  },
  {
   "cell_type": "code",
   "execution_count": null,
   "id": "f97a55e5",
   "metadata": {},
   "outputs": [],
   "source": []
  },
  {
   "cell_type": "code",
   "execution_count": null,
   "id": "2d570273",
   "metadata": {},
   "outputs": [],
   "source": []
  },
  {
   "cell_type": "code",
   "execution_count": null,
   "id": "8e042d2b",
   "metadata": {},
   "outputs": [],
   "source": []
  },
  {
   "cell_type": "code",
   "execution_count": null,
   "id": "406cd49d",
   "metadata": {},
   "outputs": [],
   "source": []
  }
 ],
 "metadata": {
  "interpreter": {
   "hash": "7c9e13e13e58af0392f302f38e9c9825489a6efc4f45573752cb74f545d990b1"
  },
  "kernelspec": {
   "display_name": "Python 3 (ipykernel)",
   "language": "python",
   "name": "python3"
  },
  "language_info": {
   "codemirror_mode": {
    "name": "ipython",
    "version": 3
   },
   "file_extension": ".py",
   "mimetype": "text/x-python",
   "name": "python",
   "nbconvert_exporter": "python",
   "pygments_lexer": "ipython3",
   "version": "3.10.5"
  },
  "toc": {
   "base_numbering": 1,
   "nav_menu": {
    "height": "79px",
    "width": "160px"
   },
   "number_sections": true,
   "sideBar": true,
   "skip_h1_title": false,
   "title_cell": "Table of Contents",
   "title_sidebar": "Contents",
   "toc_cell": false,
   "toc_position": {},
   "toc_section_display": true,
   "toc_window_display": false
  }
 },
 "nbformat": 4,
 "nbformat_minor": 5
}
